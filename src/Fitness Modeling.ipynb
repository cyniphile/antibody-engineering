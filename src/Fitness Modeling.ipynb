{
 "cells": [
  {
   "cell_type": "code",
   "execution_count": 2,
   "metadata": {},
   "outputs": [],
   "source": [
    "import mlflow\n",
    "import pandas as pd\n",
    "import seaborn as sns\n",
    "import numpy as np\n",
    "import torch\n",
    "from nn_model import MyNeuralNet\n",
    "from skorch import NeuralNetRegressor  # type: ignore\n",
    "from skorch.callbacks import MlflowLogger\n",
    "from utils import DATA_PATH, aggregate_replicates\n",
    "from ETL import INCLUDED_FEATURES\n",
    "from sklearn.preprocessing import OneHotEncoder\n",
    "from sklearn.model_selection import KFold\n",
    "from sklearn.linear_model import LinearRegression\n",
    "from sklearn.kernel_ridge import KernelRidge\n",
    "from sklearn.metrics import r2_score, mean_squared_error\n",
    "from scipy.stats import spearmanr"
   ]
  },
  {
   "attachments": {},
   "cell_type": "markdown",
   "metadata": {},
   "source": [
    "# Fitness modeling\n",
    "\n",
    "To propose candidate mutants, I first build a machine learning model of the fitness landscape.\n",
    "\n",
    "Using the experimental testbed below, I converged on the following decently performant model/featurization. See final bar plot for out-of-fold performance and variance. \n",
    "\n",
    "## Training data\n",
    "\n",
    "To test our model's ability to generalize on unseen mutants it's important to combine replicates so identical sequences don't end up in both train and test data. I took the average of `Pred_affinity` among replicates. I also filled NA-valued replicates with the max `Pred_affinity`. \n",
    "\n",
    "*Note:* [Li et al.](https://www.biorxiv.org/content/10.1101/2022.10.07.502662v1.full.pdf) (the follow-up paper on this dataset from the same lab) used an ensemble of either dropping NAs or filling with median affinity. I honestly don't understand why either of these approaches would be appropriate. Dropping NAs might be fine to focus on learning functional regions of the fitness landscape, but only in the context of an ensemble; otherwise the model may have trouble rejecting broken mutants. Filling NAs with median affinity seems plain wrong, as NA affinity indicates *very low* affinity, not median affinity. \n",
    "\n",
    "## Featurization\n",
    "\n",
    " I tested both one-hot encodings of the CDRs, and FAIR-ESM-2 embeddings of the full chains. The ESM embeddings performed slightly better. The ESM authors suggest doing a reduction using PCA, but I skipped this step for now. This would be an important next step in generating models with a lesser curse of dimensionality. \n",
    "\n",
    "## Model: Ridge Regression with RBF kernel. \n",
    "\n",
    "This is a decent prototype model that's non-linear but also not over-parametrized. Also, these models tend to do better at extrapolation than tree-based methods (a key requirement here). Specifically, RBF kernels tend toward a prediction of zero mean when when from the training data, so this model has a built-in \"conservative\" bias (radically new sequences will be predicted to have low affinity) that will work hand in hand with the trust-radius idea proposed by Biswas in the later Candidate Generation notebook.\n",
    "\n",
    "I first got the model to memorize the input data, and then increased regularization manually until out-of-fold performance more-or-less peaked. Next steps would be to refine hyperparams automatically using Optuna or a tighter grid search. \n",
    "\n",
    "Test performance of this model using k-fold cross validation (where k=5) is summarized in the final bar plot below. Note that variance is fairly low across folds (error bars).\n",
    "\n",
    "## Other future work\n",
    "\n",
    "I only train a model on the heavy chain AAYL49. Future work would be to independently train on the light chain AAYL50, as done in Li et al.\n",
    "\n",
    "This model shows only ok performance (spearman correlation ~.25). This is enough for the purposes of this exercise, but I'd like to see something above .5 (at least) for use in a real-world setting. \n",
    "\n",
    "Additionally, the inerrant noisiness of the data and desire to have uncertainty estimates on predictions suggests a a Gaussian process regression could be ideal for this task. GPR is famously expensive to train on large datasets. That said, the ESM2 quickstart notebooks suggested (encouragingly) using PCA to reduce the dimensionality of the embeddings while still maintaining reasonable performance. "
   ]
  },
  {
   "cell_type": "code",
   "execution_count": null,
   "metadata": {},
   "outputs": [],
   "source": [
    "LIBRARY = \"AAYL49\"\n",
    "FILL_NA_AFFINITY_VALUE = 'max'\n",
    "# FILL_NA_AFFINITY_VALUE = 'drop'\n",
    "\n",
    "feature_types = ['one_hot', 'esm_emb']\n",
    "FEATURE_TYPE = feature_types[1]\n",
    "models = ['lr', 'rr-rbf', 'nn']\n",
    "MODEL = models[1] \n",
    "\n",
    "with mlflow.start_run(experiment_id='466801391116261320'):\n",
    "    mlflow.log_param('Model', MODEL)\n",
    "    mlflow.log_param('Library', LIBRARY)\n",
    "    mlflow.log_param('Feature type', FEATURE_TYPE)\n",
    "    match FEATURE_TYPE:\n",
    "        case 'one_hot':\n",
    "            df = pd.read_parquet(f\"{DATA_PATH}/{LIBRARY}_expanded.parquet\")\n",
    "        case 'esm_emb':\n",
    "            df = pd.read_parquet(f\"{DATA_PATH}/{LIBRARY}_emb_esm2.parquet\")\n",
    "    mlflow.log_param('Null Pred_affinity fill value', FILL_NA_AFFINITY_VALUE)\n",
    "    df = aggregate_replicates(df, fillna=FILL_NA_AFFINITY_VALUE)   # type: ignore \n",
    "\n",
    "    feature_cols = df.columns[df.columns.isin(INCLUDED_FEATURES)==False]\n",
    "    features_df = df[feature_cols]\n",
    "    targets = df['Pred_affinity'].values\n",
    "    match FEATURE_TYPE:\n",
    "        case 'one_hot':\n",
    "            enc = OneHotEncoder()\n",
    "            one_hot_df = enc.fit_transform(features_df).todense()\n",
    "            assert one_hot_df.shape[1] == features_df.columns.shape[0] * 20 \n",
    "            features = np.asarray(one_hot_df)\n",
    "        case 'esm_emb':\n",
    "            features = features_df.values\n",
    "    # Shuffle to remove any ordering \n",
    "    # TODO: stratify by # of mutations\n",
    "    kf = KFold(shuffle=True, n_splits=5)\n",
    "    mlflow.sklearn.autolog()\n",
    "    for i, (train_index, test_index) in enumerate(kf.split(df)):\n",
    "        train_features = features[train_index].astype(np.float32)  # type: ignore \n",
    "        test_features = features[test_index].astype(np.float32)  # type: ignore \n",
    "        train_targets = targets[train_index].astype(np.float32)  # type: ignore \n",
    "        test_targets = targets[test_index].astype(np.float32)  # type: ignore \n",
    "        match MODEL:\n",
    "            case 'lr':\n",
    "                model = LinearRegression()\n",
    "            case 'rr-rbf':\n",
    "                model = KernelRidge(kernel='rbf', alpha=.01, gamma=3)  # type: ignore \n",
    "            case 'nn':\n",
    "                device = \"cuda\" if torch.cuda.is_available() else \"cpu\"  # type: ignore \n",
    "                print(f\"Using {device} device\")\n",
    "                train_targets = train_targets.reshape(-1,1)\n",
    "                test_targets = test_targets.reshape(-1,1)\n",
    "                max_epochs = 1000\n",
    "                mlflow.log_param('Max epochs', max_epochs)\n",
    "                model = NeuralNetRegressor(\n",
    "                    MyNeuralNet(input_width=features.shape[1]),  # type: ignore \n",
    "                    max_epochs=max_epochs,\n",
    "                    lr=0.1,\n",
    "                    # Shuffle training data on each epoch\n",
    "                    iterator_train__shuffle=True,\n",
    "                    callbacks=[MlflowLogger()],\n",
    "                    device = device,\n",
    "                    optimizer=torch.optim.AdamW\n",
    "                )\n",
    "            case _:\n",
    "                raise ValueError()\n",
    "        model.fit(X=train_features, y=train_targets)\n",
    "        y_hat = model.predict(test_features)\n",
    "        mlflow.log_metric(f'test_r2', r2_score(test_targets, y_hat))  # type: ignore \n",
    "        mlflow.log_metric(f'test_mse', mean_squared_error(test_targets, y_hat))  # type: ignore \n",
    "        mlflow.log_metric(f'spearmanr', spearmanr(test_targets, y_hat)[0])  # type: ignore \n",
    "        print(i)"
   ]
  },
  {
   "cell_type": "code",
   "execution_count": 11,
   "metadata": {},
   "outputs": [
    {
     "data": {
      "text/plain": [
       "<AxesSubplot: xlabel='key', ylabel='value'>"
      ]
     },
     "execution_count": 11,
     "metadata": {},
     "output_type": "execute_result"
    },
    {
     "data": {
      "image/png": "[encoded data removed]",
      "text/plain": [
       "<Figure size 640x480 with 1 Axes>"
      ]
     },
     "metadata": {},
     "output_type": "display_data"
    }
   ],
   "source": [
    "# model performance metric for best model saved from mlflow.\n",
    "m = pd.read_csv(\"./data/metrics.csv\")\n",
    "sns.barplot(data=m, x='key', y='value')"
   ]
  }
 ],
 "metadata": {
  "kernelspec": {
   "display_name": ".venv",
   "language": "python",
   "name": "python3"
  },
  "language_info": {
   "codemirror_mode": {
    "name": "ipython",
    "version": 3
   },
   "file_extension": ".py",
   "mimetype": "text/x-python",
   "name": "python",
   "nbconvert_exporter": "python",
   "pygments_lexer": "ipython3",
   "version": "3.10.6"
  },
  "orig_nbformat": 4,
  "vscode": {
   "interpreter": {
    "hash": "9956ba50479c8e53bf85a39f071b9175bffafd6135499580e6c88cc3736212a8"
   }
  }
 },
 "nbformat": 4,
 "nbformat_minor": 2
}
